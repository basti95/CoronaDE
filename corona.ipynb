from bokeh.plotting import figure, show
from bokeh.io import output_notebook
from bokeh.models import ColumnDataSource, HoverTool, Legend
from bokeh.palettes import Category20_16
import pandas as pd
output_notebook()
corona_daten_url = 'https://opendata.arcgis.com/datasets/dd4580c810204019a7b8eb3e0b329dd6_0.csv'
columns_to_import= ['Bundesland','AnzahlFall','Meldedatum']
#df = pd.read_csv(corona_daten_url,usecols=columns_to_import)
df = pd.read_csv('RKI_COVID19.csv',usecols=columns_to_import)
einwohnerzahlen = pd.read_csv('Einwohnerzahlen.csv',delimiter=';',index_col='Bundesland')['31.12.2019'].to_dict()
#QUELLE: https://www-genesis.destatis.de/genesis/online?operation=abruftabelleBearbeiten&levelindex=1&levelid=1609784707313&auswahloperation=abruftabelleAuspraegungAuswaehlen&auswahlverzeichnis=ordnungsstruktur&auswahlziel=werteabruf&code=12411-0010&auswahltext=&werteabruf=starten#abreadcrumb
df['Meldedatum']= pd.to_datetime(df['Meldedatum'].astype('str').str[:10])
df = df.groupby(['Bundesland','Meldedatum']).sum().unstack('Bundesland').resample('w').sum()
bundesländer = [col[1] for col in df.columns]
df.columns = bundesländer


for bundesland in bundesländer:
    df[bundesland]=(df[bundesland]/(einwohnerzahlen[bundesland]/100000))

data_to_plot = ColumnDataSource(df)
hovertool = HoverTool(
    tooltips=[
        ('Bundesland','$name'),
        ('Anzahl Fälle','$y{0}'),
        ('Datum','$x{%F}')]
)
hovertool.formatters = { "$x": "datetime"}   
    
plt = figure(title='Infektionszahlen je Woche pro 100.000 Einwohner',
             x_axis_type='datetime',
             tools=[hovertool,'box_zoom','pan','reset','wheel_zoom','save'],
             plot_width=950,
             plot_height=500
            )

legend_it = []
for bundesland, color in zip(bundesländer, Category20_16):
    c = plt.line(source=data_to_plot,color=color,x='Meldedatum',y=bundesland,name=bundesland)
    legend_it.append((bundesland,[c]))

legend = Legend(items=legend_it)
legend.click_policy="mute"

plt.add_layout(legend, 'right')

plt.toolbar.logo = None
plt.toolbar_location='above'
show(plt)
